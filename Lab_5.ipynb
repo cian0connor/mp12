{
 "cells": [
  {
   "cell_type": "code",
   "execution_count": 1,
   "metadata": {
    "collapsed": true
   },
   "outputs": [],
   "source": [
    "import random"
   ]
  },
  {
   "cell_type": "code",
   "execution_count": 33,
   "metadata": {
    "collapsed": false
   },
   "outputs": [
    {
     "name": "stdout",
     "output_type": "stream",
     "text": [
      "60 / 100\n",
      "41 / 100\n"
     ]
    }
   ],
   "source": [
    "rr_count = 0\n",
    "r_count = 0\n",
    "total = 100\n",
    "num_marbles = 12\n",
    "num_red = 8\n",
    "\n",
    "for i in range(total):\n",
    "    if random.random() < num_red/num_marbles:\n",
    "        r_count += 1\n",
    "        \n",
    "               \n",
    "        if random.random() < num_red/num_marbles:\n",
    "            rr_count += 1\n",
    "        \n",
    "print(r_count, \"/\", total)\n",
    "print(rr_count, \"/\", total)"
   ]
  },
  {
   "cell_type": "code",
   "execution_count": 42,
   "metadata": {
    "collapsed": false
   },
   "outputs": [
    {
     "name": "stdout",
     "output_type": "stream",
     "text": [
      "3 11\n",
      "2 10\n",
      "1 9\n",
      "0 8\n",
      "4 / 1000\n",
      "0 / 1000\n"
     ]
    }
   ],
   "source": [
    "bb_count = 0\n",
    "b_count = 0\n",
    "total = 1000\n",
    "num_marbles = 12\n",
    "num_red = 8\n",
    "num_blue = 4\n",
    "\n",
    "for i in range(total):\n",
    "    if random.random() < num_blue/num_marbles:\n",
    "        num_marbles = num_marbles - 1\n",
    "        num_blue =  1\n",
    "        b_count += 1\n",
    "        print(num_blue, num_marbles)\n",
    "        \n",
    "        if random.random() < num_blue/num_marbles:\n",
    "            bb_count += 1\n",
    "        \n",
    "print(b_count, \"/\", total)\n",
    "print(bb_count, \"/\", total)"
   ]
  },
  {
   "cell_type": "code",
   "execution_count": 35,
   "metadata": {
    "collapsed": false
   },
   "outputs": [
    {
     "data": {
      "text/plain": [
       "0.3333333333333333"
      ]
     },
     "execution_count": 35,
     "metadata": {},
     "output_type": "execute_result"
    }
   ],
   "source": [
    "4/12"
   ]
  },
  {
   "cell_type": "code",
   "execution_count": 36,
   "metadata": {
    "collapsed": false
   },
   "outputs": [
    {
     "data": {
      "text/plain": [
       "0.0909090909090909"
      ]
     },
     "execution_count": 36,
     "metadata": {},
     "output_type": "execute_result"
    }
   ],
   "source": [
    "(4/12) * (3/11)"
   ]
  },
  {
   "cell_type": "code",
   "execution_count": 53,
   "metadata": {
    "collapsed": false
   },
   "outputs": [
    {
     "name": "stdout",
     "output_type": "stream",
     "text": [
      "One Blue 332 / 1000\n",
      "Blue after Blue 92 / 1000\n",
      "Red 668 / 1000\n",
      "Red after Red 431 / 1000\n",
      "Red after Blue 240 / 1000\n",
      "Blue after Red 237 / 1000\n"
     ]
    }
   ],
   "source": [
    "bb_count = 0\n",
    "b_count = 0\n",
    "r_count = 0\n",
    "rr_count = 0\n",
    "br_count = 0\n",
    "rb_count = 0\n",
    "counts = 1000\n",
    "num_marbles = 12\n",
    "num_red = 8\n",
    "num_blue = 4\n",
    "\n",
    "for i in range(counts):\n",
    "    if random.random() < num_blue/num_marbles:\n",
    "        b_count += 1\n",
    "        \n",
    "        if random.random() < (num_blue - 1)/(num_marbles - 1):\n",
    "            bb_count += 1\n",
    "            \n",
    "        else:\n",
    "            br_count += 1\n",
    "            \n",
    "            \n",
    "    else:\n",
    "        r_count += 1\n",
    "        \n",
    "        if random.random() < (num_red - 1)/(num_marbles - 1):\n",
    "            rr_count += 1\n",
    "            \n",
    "        else:\n",
    "            rb_count += 1\n",
    "            \n",
    "        \n",
    "        \n",
    "print(\"One Blue\",b_count, \"/\", counts)\n",
    "print(\"Blue after Blue\",bb_count, \"/\", counts)\n",
    "print(\"Red\",r_count, \"/\", counts)\n",
    "print(\"Red after Red\",rr_count, \"/\", counts)\n",
    "print(\"Red after Blue\",br_count, \"/\", counts)\n",
    "print(\"Blue after Red\",rb_count, \"/\", counts)"
   ]
  },
  {
   "cell_type": "code",
   "execution_count": null,
   "metadata": {
    "collapsed": true
   },
   "outputs": [],
   "source": []
  }
 ],
 "metadata": {
  "kernelspec": {
   "display_name": "Python 3",
   "language": "python",
   "name": "python3"
  },
  "language_info": {
   "codemirror_mode": {
    "name": "ipython",
    "version": 3
   },
   "file_extension": ".py",
   "mimetype": "text/x-python",
   "name": "python",
   "nbconvert_exporter": "python",
   "pygments_lexer": "ipython3",
   "version": "3.5.1"
  }
 },
 "nbformat": 4,
 "nbformat_minor": 0
}
