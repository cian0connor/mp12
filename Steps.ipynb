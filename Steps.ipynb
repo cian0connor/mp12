{
 "cells": [
  {
   "cell_type": "code",
   "execution_count": null,
   "metadata": {
    "collapsed": false
   },
   "outputs": [],
   "source": [
    "i = 1;\n",
    "zeros = 0;\n",
    "ones = 0;\n",
    "twos = 0;\n",
    "threes = 0;\n",
    "fours = 0;\n",
    "fives = 0;\n",
    "sixs = 0; \n",
    "sevens = 0;\n",
    "eights = 0;\n",
    "nines = 0;\n",
    "labour = 8.51;\n",
    "tile = 13.50;\n",
    "total = 0;\n",
    "\n",
    "while(i <= 9):\n",
    "    total += (labour + tile)\n",
    "    if(str(i).find('1') != -1):\n",
    "        ones += 1;\n",
    "    if(str(i).find('2') != -1):\n",
    "        twos += 1;\n",
    "    if(str(i).find('3') != -1):\n",
    "        threes += 1;\n",
    "    if(str(i).find('4') != -1):\n",
    "        fours += 1;\n",
    "    if(str(i).find('5') != -1):\n",
    "        fives += 1;\n",
    "    if(str(i).find('6') != -1):\n",
    "        sixs += 1;\n",
    "    if(str(i).find('7') != -1):\n",
    "        sevens += 1;\n",
    "    if(str(i).find('8') != -1):\n",
    "        eights += 1;\n",
    "    if(str(i).find('9') != -1):\n",
    "        nines += 1;\n",
    "    i += 1;\n",
    "\n",
    "\n",
    "\n",
    "while(i > 9 & i <= 99):\n",
    "    total += (labour + tile)*2\n",
    "    if(str(i).find('1') != -1):\n",
    "        ones += 1;\n",
    "    if(str(i).find('2') != -1):\n",
    "        twos += 1;\n",
    "    if(str(i).find('3') != -1):\n",
    "        threes += 1;\n",
    "    if(str(i).find('4') != -1):\n",
    "        fours += 1;\n",
    "    if(str(i).find('5') != -1):\n",
    "        fives += 1;\n",
    "    if(str(i).find('6') != -1):\n",
    "        sixs += 1;\n",
    "    if(str(i).find('7') != -1):\n",
    "        sevens += 1;\n",
    "    if(str(i).find('8') != -1):\n",
    "        eights += 1;\n",
    "    if(str(i).find('9') != -1):\n",
    "        nines += 1;\n",
    "    i += 1;\n",
    "print(total);"
   ]
  },
  {
   "cell_type": "code",
   "execution_count": null,
   "metadata": {
    "collapsed": true
   },
   "outputs": [],
   "source": []
  },
  {
   "cell_type": "code",
   "execution_count": null,
   "metadata": {
    "collapsed": true
   },
   "outputs": [],
   "source": []
  }
 ],
 "metadata": {
  "kernelspec": {
   "display_name": "Python 3",
   "language": "python",
   "name": "python3"
  },
  "language_info": {
   "codemirror_mode": {
    "name": "ipython",
    "version": 3
   },
   "file_extension": ".py",
   "mimetype": "text/x-python",
   "name": "python",
   "nbconvert_exporter": "python",
   "pygments_lexer": "ipython3",
   "version": "3.5.1"
  }
 },
 "nbformat": 4,
 "nbformat_minor": 0
}
