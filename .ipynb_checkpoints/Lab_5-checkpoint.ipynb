{
 "cells": [
  {
   "cell_type": "code",
   "execution_count": 1,
   "metadata": {
    "collapsed": true
   },
   "outputs": [],
   "source": [
    "import random"
   ]
  },
  {
   "cell_type": "code",
   "execution_count": 22,
   "metadata": {
    "collapsed": false
   },
   "outputs": [
    {
     "name": "stdout",
     "output_type": "stream",
     "text": [
      "67 / 100\n",
      "48 / 100\n"
     ]
    }
   ],
   "source": [
    "rr_count = 0\n",
    "r_count = 0\n",
    "total = 100\n",
    "num_marbles = 12\n",
    "num_red = 8\n",
    "\n",
    "for i in range(total):\n",
    "    if random.random() < num_red/num_marbles:\n",
    "        num_marbles - 1\n",
    "        num_red - 1\n",
    "        r_count += 1\n",
    "        \n",
    "               \n",
    "        if random.random() < num_red/num_marbles:\n",
    "            rr_count += 1\n",
    "        \n",
    "print(r_count, \"/\", total)\n",
    "print(rr_count, \"/\", total)"
   ]
  },
  {
   "cell_type": "code",
   "execution_count": null,
   "metadata": {
    "collapsed": true
   },
   "outputs": [],
   "source": []
  }
 ],
 "metadata": {
  "kernelspec": {
   "display_name": "Python 3",
   "language": "python",
   "name": "python3"
  },
  "language_info": {
   "codemirror_mode": {
    "name": "ipython",
    "version": 3
   },
   "file_extension": ".py",
   "mimetype": "text/x-python",
   "name": "python",
   "nbconvert_exporter": "python",
   "pygments_lexer": "ipython3",
   "version": "3.5.1"
  }
 },
 "nbformat": 4,
 "nbformat_minor": 0
}
