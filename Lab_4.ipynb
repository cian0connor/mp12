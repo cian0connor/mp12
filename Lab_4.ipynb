{
 "cells": [
  {
   "cell_type": "code",
   "execution_count": 1,
   "metadata": {
    "collapsed": true
   },
   "outputs": [],
   "source": [
    "import random"
   ]
  },
  {
   "cell_type": "code",
   "execution_count": 2,
   "metadata": {
    "collapsed": false
   },
   "outputs": [
    {
     "name": "stdout",
     "output_type": "stream",
     "text": [
      "The red count: 1\n",
      "The red blue count: 1\n",
      "The red count: 2\n",
      "The red red count: 1\n",
      "The blue count: 1\n",
      "The blue red count: 1\n",
      "The red count: 3\n",
      "The red red count: 2\n",
      "The blue count: 2\n",
      "The blue red count: 2\n",
      "The red count: 4\n",
      "The red red count: 3\n",
      "The red count: 5\n",
      "The red red count: 4\n",
      "The red count: 6\n",
      "The red red count: 5\n",
      "The blue count: 3\n",
      "The blue red count: 3\n",
      "The red count: 7\n",
      "The red red count: 6\n",
      "The blue count: 4\n",
      "The blue red count: 4\n",
      "The blue count: 5\n",
      "The blue red count: 5\n"
     ]
    }
   ],
   "source": [
    "red_count = 0\n",
    "rr_count = 0\n",
    "rb_count = 0\n",
    "blue_count = 0\n",
    "bb_count = 0\n",
    "br_count = 0\n",
    "\n",
    "\n",
    "for i in range(12):\n",
    "    if random.random() < 8/12:\n",
    "        red_count += 1\n",
    "        \n",
    "        print(\"The red count:\", red_count)\n",
    "        \n",
    "        if random.random() < 7/11:\n",
    "            rr_count += 1\n",
    "        \n",
    "            print(\"The red red count:\", rr_count)\n",
    "        \n",
    "        else:\n",
    "            rb_count += 1\n",
    "            \n",
    "            print(\"The red blue count:\", rb_count)\n",
    "        \n",
    "        \n",
    "        \n",
    "        \n",
    "    else:\n",
    "         blue_count += 1\n",
    "        \n",
    "         print(\"The blue count:\", blue_count)\n",
    "            \n",
    "         if random.random() < 3/11:\n",
    "                    bb_count += 1\n",
    "        \n",
    "                    print(\"The blue blue count:\", bb_count)\n",
    "        \n",
    "         else:\n",
    "                    br_count += 1\n",
    "            \n",
    "                    print(\"The blue red count:\", br_count)\n",
    "        \n",
    "           "
   ]
  },
  {
   "cell_type": "code",
   "execution_count": null,
   "metadata": {
    "collapsed": true
   },
   "outputs": [],
   "source": []
  }
 ],
 "metadata": {
  "kernelspec": {
   "display_name": "Python 3",
   "language": "python",
   "name": "python3"
  },
  "language_info": {
   "codemirror_mode": {
    "name": "ipython",
    "version": 3
   },
   "file_extension": ".py",
   "mimetype": "text/x-python",
   "name": "python",
   "nbconvert_exporter": "python",
   "pygments_lexer": "ipython3",
   "version": "3.5.1"
  }
 },
 "nbformat": 4,
 "nbformat_minor": 0
}
