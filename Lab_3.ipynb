{
 "cells": [
  {
   "cell_type": "code",
   "execution_count": 1,
   "metadata": {
    "collapsed": true
   },
   "outputs": [],
   "source": [
    "import random"
   ]
  },
  {
   "cell_type": "code",
   "execution_count": 2,
   "metadata": {
    "collapsed": false
   },
   "outputs": [
    {
     "data": {
      "text/plain": [
       "0.12126319227281801"
      ]
     },
     "execution_count": 2,
     "metadata": {},
     "output_type": "execute_result"
    }
   ],
   "source": [
    "random.random()"
   ]
  },
  {
   "cell_type": "code",
   "execution_count": 3,
   "metadata": {
    "collapsed": false
   },
   "outputs": [
    {
     "data": {
      "text/plain": [
       "0.42424242424242425"
      ]
     },
     "execution_count": 3,
     "metadata": {},
     "output_type": "execute_result"
    }
   ],
   "source": [
    "56/132"
   ]
  },
  {
   "cell_type": "code",
   "execution_count": 4,
   "metadata": {
    "collapsed": false
   },
   "outputs": [
    {
     "name": "stdout",
     "output_type": "stream",
     "text": [
      "You choose red\n"
     ]
    }
   ],
   "source": [
    "if random.random() < 3/2:\n",
    "    print(\"You choose red\")\n",
    "else:\n",
    "    print(\"You choose blue\")"
   ]
  },
  {
   "cell_type": "code",
   "execution_count": 9,
   "metadata": {
    "collapsed": false
   },
   "outputs": [
    {
     "name": "stdout",
     "output_type": "stream",
     "text": [
      "The blue count: 1\n",
      "The blue red count: 1\n",
      "The red count: 1\n",
      "The red blue count: 1\n",
      "The red count: 2\n",
      "The red red count: 1\n",
      "The blue count: 2\n",
      "The blue blue count: 1\n",
      "The blue count: 3\n",
      "The blue red count: 2\n",
      "The red count: 3\n",
      "The red blue count: 2\n",
      "The red count: 4\n",
      "The red red count: 2\n",
      "The blue count: 4\n",
      "The blue red count: 3\n",
      "The red count: 5\n",
      "The red red count: 3\n",
      "The red count: 6\n",
      "The red red count: 4\n",
      "The blue count: 5\n",
      "The blue blue count: 2\n",
      "The red count: 7\n",
      "The red blue count: 3\n"
     ]
    }
   ],
   "source": [
    "red_count = 0\n",
    "rr_count = 0\n",
    "rb_count = 0\n",
    "blue_count = 0\n",
    "bb_count = 0\n",
    "br_count = 0\n",
    "\n",
    "\n",
    "for i in range(12):\n",
    "    if random.random() < 8/12:\n",
    "        red_count += 1\n",
    "        \n",
    "        print(\"The red count:\", red_count)\n",
    "        \n",
    "        if random.random() < 7/11:\n",
    "            rr_count += 1\n",
    "        \n",
    "            print(\"The red red count:\", rr_count)\n",
    "        \n",
    "        else:\n",
    "            rb_count += 1\n",
    "            \n",
    "            print(\"The red blue count:\", rb_count)\n",
    "        \n",
    "        \n",
    "        \n",
    "        \n",
    "    else:\n",
    "         blue_count += 1\n",
    "        \n",
    "         print(\"The blue count:\", blue_count)\n",
    "            \n",
    "         if random.random() < 3/11:\n",
    "                    bb_count += 1\n",
    "        \n",
    "                    print(\"The blue blue count:\", bb_count)\n",
    "        \n",
    "         else:\n",
    "                    br_count += 1\n",
    "            \n",
    "                    print(\"The blue red count:\", br_count)\n",
    "        \n",
    "           "
   ]
  },
  {
   "cell_type": "code",
   "execution_count": null,
   "metadata": {
    "collapsed": true
   },
   "outputs": [],
   "source": []
  }
 ],
 "metadata": {
  "anaconda-cloud": {},
  "kernelspec": {
   "display_name": "Python [default]",
   "language": "python",
   "name": "python3"
  },
  "language_info": {
   "codemirror_mode": {
    "name": "ipython",
    "version": 3
   },
   "file_extension": ".py",
   "mimetype": "text/x-python",
   "name": "python",
   "nbconvert_exporter": "python",
   "pygments_lexer": "ipython3",
   "version": "3.5.2"
  }
 },
 "nbformat": 4,
 "nbformat_minor": 0
}
